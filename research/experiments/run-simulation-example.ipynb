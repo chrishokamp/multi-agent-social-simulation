{
 "cells": [
  {
   "cell_type": "markdown",
   "id": "b205de5b",
   "metadata": {},
   "source": [
    "## Example for Running Simulations outside UI"
   ]
  },
  {
   "cell_type": "markdown",
   "id": "cee1ed87",
   "metadata": {},
   "source": [
    "**Prerequisites: Install Backend code as library**\n",
    "\n",
    "Go to `sweng25_group22_multiagentsimframework/backend` and run `pip install -e .`"
   ]
  },
  {
   "cell_type": "code",
   "execution_count": 1,
   "id": "b547e3ad",
   "metadata": {},
   "outputs": [
    {
     "data": {
      "text/plain": [
       "True"
      ]
     },
     "execution_count": 1,
     "metadata": {},
     "output_type": "execute_result"
    }
   ],
   "source": [
    "import dotenv\n",
    "\n",
    "dotenv.load_dotenv()"
   ]
  },
  {
   "cell_type": "code",
   "execution_count": 2,
   "id": "a1e1c3f6",
   "metadata": {},
   "outputs": [],
   "source": [
    "import asyncio\n",
    "from engine.simulation import SelectorGCSimulation\n",
    "from OLD.util.config import SimConfigLoader\n",
    "# from autogen_agentchat.agents import AssistantAgent\n",
    "# from autogen_agentchat.conditions import MaxMessageTermination, TextMentionTermination\n",
    "# from autogen_agentchat.teams import SelectorGroupChat\n",
    "# from autogen_agentchat.ui import Console"
   ]
  },
  {
   "cell_type": "code",
   "execution_count": 9,
   "id": "58c27db9",
   "metadata": {},
   "outputs": [],
   "source": [
    "config = {\n",
    "  \"config\": {\n",
    "    \"agents\": [\n",
    "      {\n",
    "        \"description\": \"An agent representing a buyer interested in purchasing a house\",\n",
    "        \"name\": \"Buyer\",\n",
    "        \"prompt\": \"You are the Buyer. Your goal is to purchase the house at the lowest possible price while achieving a satisfactory agreement.\"\n",
    "      },\n",
    "      {\n",
    "        \"description\": \"An agent representing the seller of a house\",\n",
    "        \"name\": \"Seller\",\n",
    "        \"prompt\": \"You are the Seller. Your goal is to sell the house at the highest possible price while ensuring a successful transaction.\"\n",
    "      },\n",
    "    ],\n",
    "    \"name\": \"Business Negotiation Simulation\",\n",
    "    \"output_variables\": [\n",
    "      {\n",
    "        \"name\": \"Final Price in Euros\",\n",
    "        \"type\": \"Number\"\n",
    "      },\n",
    "      {\n",
    "        \"name\": \"Deal Reached\",\n",
    "        \"type\": \"Boolean\"\n",
    "      }\n",
    "    ],\n",
    "    \"termination_condition\": \"The simulation ends when a deal is reached or negotiations fail.\"\n",
    "  },\n",
    "  \"num_runs\": 10,\n",
    "  \"temperature\": 1,\n",
    "  \"top_p\": 1\n",
    "}"
   ]
  },
  {
   "cell_type": "code",
   "execution_count": 11,
   "id": "33b79bf0",
   "metadata": {},
   "outputs": [
    {
     "name": "stdout",
     "output_type": "stream",
     "text": [
      "2025-06-18 17:37:24,075 utils INFO: Using Azure OpenAI client for simulation.\n",
      "2025-06-18 17:37:24,083 engine.simulation INFO: Initializing SelectorGCSimulation with config: {'agents': [{'description': 'An agent representing a buyer interested in purchasing a house', 'name': 'Buyer', 'prompt': 'You are the Buyer. Your goal is to purchase the house at the lowest possible price while achieving a satisfactory agreement.'}, {'description': 'An agent representing the seller of a house', 'name': 'Seller', 'prompt': 'You are the Seller. Your goal is to sell the house at the highest possible price while ensuring a successful transaction.'}, {'name': 'InformationReturnAgent', 'description': 'An LLM agent that analyzes a conversation between multiple LLM agents, and extracts specific variables when the predefined termination condition is reached.', 'prompt': 'You are an AI assistant tasked with analyzing a conversation between multiple LLM agents. Your goal is to extract specific variables from the conversation and output them in JSON format when a specific termination condition is met.\\n\\nInstructions:\\n1. Monitor the conversation and track relevant details as messages are exchanged between the agents.\\n2. Extract the following variables when the termination condition is reached:\\n{\\n\"Final Price in Euros\": \"NUMBER\",\\n\"Deal Reached\": \"BOOLEAN\"\\n}\\n3. Incase of output variables like string variables, comprehensively look at the conversation and output concise and objective information, i.e in case of a court case simulation demanding verdict as a str, output the verdict as the length of prison etc, do not simply state that the verdict was reached\\n 3. Once the conversation meets the predefined termination condition: \"The simulation ends when a deal is reached or negotiations fail.\", immediately output the extracted variables in valid JSON format.\\n4. Final Output: After printing the JSON, output the word \"TERMINATE\" on a new line.'}], 'name': 'Business Negotiation Simulation', 'output_variables': [{'name': 'Final Price in Euros', 'type': 'Number'}, {'name': 'Deal Reached', 'type': 'Boolean'}], 'termination_condition': 'The simulation ends when a deal is reached or negotiations fail.'}\n"
     ]
    }
   ],
   "source": [
    "simulation = SelectorGCSimulation(config['config'], max_messages=10, min_messages=5)"
   ]
  },
  {
   "cell_type": "code",
   "execution_count": null,
   "id": "0e1ed954",
   "metadata": {},
   "outputs": [
    {
     "name": "stdout",
     "output_type": "stream",
     "text": [
      "---------- SelectSpeakerEvent (SelectorGroupChatManager) ----------\n",
      "['Buyer']\n",
      "---------- TextMessage (Buyer) ----------\n",
      "Hi there, I recently saw your listing and I'm really interested in the property. However, after doing some market research, I believe there's room to negotiate on the price. Could you share a bit more about how you arrived at your asking price? I'm hoping we can work together to reach an agreement that suits us both.\n",
      "---------- SelectSpeakerEvent (SelectorGroupChatManager) ----------\n",
      "['Seller']\n",
      "---------- TextMessage (Seller) ----------\n",
      "Hi there, and thank you for your interest in the property. I'd be happy to share how we arrived at our asking price.\n",
      "\n",
      "Firstly, we conducted a comprehensive market analysis comparing similar homes in this neighborhood. We looked at recent sales data, current listings, and the overall trend in the area to ensure the price reflects current market conditions.\n",
      "\n",
      "In addition, we factored in specific features and upgrades that set this property apart—such as the recent renovations to the kitchen and bathrooms, the landscaped yard, and energy-efficient improvements—all of which add significant value. The home’s location in a well-regarded area with excellent local schools and amenities also played an important role.\n",
      "\n",
      "We believe this thorough approach to pricing not only offers a fair value for you as a buyer but also reflects the quality and potential return on investment that the property offers. That said, I’m open to hearing more about your perspective based on your research and discussing any specific aspects you’d like to explore further. Ultimately, I’m confident we can work together to reach an agreement that works for both parties.\n",
      "\n",
      "What particular market findings or comparables stood out for you?\n",
      "---------- SelectSpeakerEvent (SelectorGroupChatManager) ----------\n",
      "['Buyer']\n",
      "---------- TextMessage (Buyer) ----------\n",
      "Thanks for that detailed explanation. I appreciate the care taken to factor in both market data and property-specific upgrades. In my research, I did notice a few similar homes in the area—some of which sold for a bit less. For instance, properties with comparable square footage and similar renovation standards have been closing at slightly lower prices. \n",
      "\n",
      "Do you have access to the most recent comparables or sales data? I'd love to take a closer look at those figures. Additionally, while the upgrades are certainly valuable, I'm curious how they compare in terms of actual added market value versus what the comps suggest. \n",
      "\n",
      "I'm really interested in the property but want to ensure that the price reflects both the quality of the upgrades and current market trends. Based on this, would you be open to reconsidering the price or discussing any flexibility based on those comparable sales? \n",
      "\n",
      "Looking forward to your thoughts.\n",
      "---------- SelectSpeakerEvent (SelectorGroupChatManager) ----------\n",
      "['Seller']\n",
      "---------- TextMessage (Seller) ----------\n",
      "I appreciate your detailed follow‑up and understand where you’re coming from. I do have access to the latest market data and comparable sales figures, and I’d be happy to share some of those details with you. It's important to note that while some nearby properties have sold for a bit less, there are often subtle differences that can affect pricing. For instance, slight variations in location, the timing of the sale, or even differences in property condition can account for some variation. \n",
      "\n",
      "With our property, the recent upgrades—notably the modern kitchen, bathroom renovations, and energy‑efficient improvements—tend to carry a premium compared to older or less updated homes. These additions not only make the house more appealing and livable but also often translate into higher long‑term value. While the comparable sales you mentioned provide useful context, our pricing was carefully set to reflect both the intrinsic quality of the upgrades and the favorable market trends in this neighborhood.\n",
      "\n",
      "That said, I’m certainly open to discussing the specifics further. If you have particular comparables you’re considering, I’d love to review those figures together. We can evaluate how those homes compare in terms of timing, condition, and any differing features. This way, we can both feel confident that the final price is fair and representative of the market.\n",
      "\n",
      "Could you share more details about the comparables you came across, or let me know which aspects you feel might have been overvalued in our current pricing? I'm hopeful we can work together to find a mutually agreeable path forward.\n",
      "---------- SelectSpeakerEvent (SelectorGroupChatManager) ----------\n",
      "['Buyer']\n",
      "---------- TextMessage (Buyer) ----------\n",
      "Thanks for being open to discussing specifics. One comparable I came across is a property in the same neighborhood that sold recently at around $500,000. That home had standard updates but didn’t feature the same level of modern renovations your property boasts. When I adjusted for the enhanced kitchen, bathrooms, and energy‑efficiency improvements, I felt that a final price in the ballpark of $505,000 might better reflect both the market trends and the added value of your upgrades.\n",
      "\n",
      "I realize every home has its nuances—as you mentioned, slight differences can make a big impact—but based on the comparables I’ve reviewed, I'm hoping we can bring the price a bit closer to that range. Would you be willing to walk through the numbers together so we can see if there’s flexibility to reach a mutually agreeable figure around that mark? I'm very interested in this property and believe we can work something out that recognizes all of its merits.\n",
      "---------- SelectSpeakerEvent (SelectorGroupChatManager) ----------\n",
      "['Seller']\n",
      "---------- TextMessage (Seller) ----------\n",
      "I really appreciate the detailed review and the effort you’ve put into analyzing the market. I also understand where you’re coming from with the $505,000 ballpark figure, especially when comparing to that specific property. The home you mentioned clearly had value, and it’s a fair starting point for discussion. \n",
      "\n",
      "That said, as I mentioned earlier, our asking price reflects not only current market trends but also the significant value-add from our modern renovations and energy‑efficient upgrades. These improvements go beyond standard updates—they’re designed for long‑term durability, reduced energy costs, and an enhanced living experience. When we factored all of these into the appraisal, we came to a figure that’s a bit higher than $505,000.\n",
      "\n",
      "I am, however, open to working through the numbers with you. Perhaps we can review the comparable details together so that we both understand the premium attached to these upgrades. Based on our analysis, I’d be more comfortable discussing some flexibility closer to the $515,000–$520,000 range rather than dropping to $505,000 outright. \n",
      "\n",
      "Would you be open to going through the figures in detail together? That way, we can pinpoint how the adjustments for the enhanced features factor into the final price. I'm confident that we can find some common ground that reflects the true value of the home while recognizing current market conditions.\n",
      "---------- SelectSpeakerEvent (SelectorGroupChatManager) ----------\n",
      "['Buyer']\n",
      "---------- TextMessage (Buyer) ----------\n",
      "I appreciate you sharing how the enhancements factor into your pricing and I see the rationale behind positioning the home in the $515,000–$520,000 range. I definitely recognize the superior quality of your upgrades, especially the long‑term energy savings and modern finishes that truly elevate this property.\n",
      "\n",
      "At the same time, I’m mindful of a few additional factors. While the improvements are significant—and I’m fully on board with the value they bring—the overall market dynamics and comparable properties suggest the room for negotiation might be a bit tighter than the current range indicates. \n",
      "\n",
      "Would it be possible to walk through the numbers more specifically? For instance, if we could quantify some of the long‑term savings from the energy‑efficient upgrades, that might help in reconciling the adjustments. On my side, based on all the comparisons and factoring in current market conditions, I’m leaning toward a figure closer to $510,000 as a fair compromise.\n",
      "\n",
      "I’m very interested in moving forward, and I think with a detailed review of the figures we can close the gap. How does that sound to you?\n",
      "---------- SelectSpeakerEvent (SelectorGroupChatManager) ----------\n",
      "['Seller']\n",
      "---------- TextMessage (Seller) ----------\n",
      "I appreciate the thoughtfulness you’re putting into this discussion and your willingness to work through the figures with me. I do have documentation detailing the estimated energy‑efficient savings that we factored into our pricing. For example, our analysis shows that the modern systems and energy upgrades can translate to an annual savings around the mid‑to‑high hundreds on energy costs. When you consider this over a longer period—factored into the overall value proposition—it does contribute meaningful long‑term value.\n",
      "\n",
      "That said, I understand your perspective in aiming for a final figure closer to $510,000. Given the market data and the tangible benefits of the renovations, I’d like to propose that we review these numbers together. How about we sit down with the documentation so we can go line‑by‑line through the energy‑savings assumptions, the comparables, and the premium adjustments made for the modern upgrades? This way, we can both see exactly how the adjustments add up.\n",
      "\n",
      "In the meantime, based on our preliminary review and your input, I’d be open to considering a final price in the low $510,000s if everything aligns. Let’s arrange a time to review these figures together so we can work out a mutually agreeable number. Would you be available this week to meet and go over the details?\n",
      "---------- SelectSpeakerEvent (SelectorGroupChatManager) ----------\n",
      "['Buyer']\n",
      "---------- TextMessage (Buyer) ----------\n",
      "I appreciate your willingness to dive into the numbers, and I'm definitely open to meeting this week to go over the documentation together. Tuesday or Thursday afternoon would work well on my end—let me know which day suits you best.\n",
      "\n",
      "I'm really keen on getting a clear picture of the energy‐savings data and understanding how those long‑term benefits have been factored into the overall premium, along with the market comparables. My goal is to ensure that we both have a transparent view of the figures, so that we can confidently settle on a fair final price.\n",
      "\n",
      "Looking forward to our meeting and working together on this. Let me know your preferred time, and we can set it up.\n",
      "---------- SelectSpeakerEvent (SelectorGroupChatManager) ----------\n",
      "['Seller']\n",
      "---------- TextMessage (Seller) ----------\n",
      "Tuesday afternoon works well for me. How about we meet at 2 PM on Tuesday? That way, we’ll have plenty of time to go over the documentation in detail and clarify the energy-savings data along with the market comparables. I'm looking forward to sitting down together and working through the numbers to ensure both of us have a clear picture and can agree on a fair final price. Let me know if 2 PM Tuesday fits your schedule or if you'd like to adjust the time.\n"
     ]
    }
   ],
   "source": [
    "simulation_result = await simulation.run()"
   ]
  },
  {
   "cell_type": "code",
   "execution_count": 15,
   "id": "e41851ef",
   "metadata": {},
   "outputs": [],
   "source": [
    "simulation_result"
   ]
  }
 ],
 "metadata": {
  "kernelspec": {
   "display_name": "sweng",
   "language": "python",
   "name": "python3"
  },
  "language_info": {
   "codemirror_mode": {
    "name": "ipython",
    "version": 3
   },
   "file_extension": ".py",
   "mimetype": "text/x-python",
   "name": "python",
   "nbconvert_exporter": "python",
   "pygments_lexer": "ipython3",
   "version": "3.11.0"
  }
 },
 "nbformat": 4,
 "nbformat_minor": 5
}
